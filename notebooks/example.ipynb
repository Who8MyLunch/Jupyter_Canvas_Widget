{
 "cells": [
  {
   "cell_type": "code",
   "execution_count": 1,
   "metadata": {},
   "outputs": [],
   "source": [
    "import image_attendant as imat\n",
    "import jpy_canvas\n",
    "import ipywidgets"
   ]
  },
  {
   "cell_type": "code",
   "execution_count": 2,
   "metadata": {},
   "outputs": [],
   "source": [
    "# setup\n",
    "image_1 = imat.read('images/mini_1.jpg')\n",
    "image_2 = imat.read('images/mini_2.jpg')\n",
    "image_3 = imat.read('images/purple_car.jpg')"
   ]
  },
  {
   "cell_type": "code",
   "execution_count": 3,
   "metadata": {},
   "outputs": [],
   "source": [
    "image_4 = imat.rebin(image_3, 0.1)"
   ]
  },
  {
   "cell_type": "code",
   "execution_count": 4,
   "metadata": {},
   "outputs": [],
   "source": [
    "c = jpy_canvas.Canvas(image_2)"
   ]
  },
  {
   "cell_type": "code",
   "execution_count": 5,
   "metadata": {
    "scrolled": false
   },
   "outputs": [
    {
     "data": {
      "application/vnd.jupyter.widget-view+json": {
       "model_id": "6ae998814a364201a89f7cb9d8feb6c8",
       "version_major": 2,
       "version_minor": 0
      },
      "text/html": [
       "<p>Failed to display Jupyter Widget of type <code>Canvas</code>.</p>\n",
       "<p>\n",
       "  If you're reading this message in Jupyter Notebook or JupyterLab, it may mean\n",
       "  that the widgets JavaScript is still loading. If this message persists, it\n",
       "  likely means that the widgets JavaScript library is either not installed or\n",
       "  not enabled. See the <a href=\"https://ipywidgets.readthedocs.io/en/stable/user_install.html\">Jupyter\n",
       "  Widgets Documentation</a> for setup instructions.\n",
       "</p>\n",
       "<p>\n",
       "  If you're reading this message in another notebook frontend (for example, a static\n",
       "  rendering on GitHub or <a href=\"https://nbviewer.jupyter.org/\">NBViewer</a>),\n",
       "  it may mean that your frontend doesn't currently support widgets.\n",
       "</p>\n"
      ],
      "text/plain": [
       "Canvas(layout=Layout(height='', width=''))"
      ]
     },
     "metadata": {},
     "output_type": "display_data"
    },
    {
     "name": "stdout",
     "output_type": "stream",
     "text": [
      "{'type': 'mousemove', 'shiftKey': False, 'altKey': False, 'ctrlKey': False, 'timeStamp': 22971.005, 'buttons': 0, 'canvasX': 548, 'canvasY': 143}\n",
      "{'type': 'mousemove', 'shiftKey': False, 'altKey': False, 'ctrlKey': False, 'timeStamp': 23017.005, 'buttons': 0, 'canvasX': 458, 'canvasY': 161}\n",
      "{'type': 'mousemove', 'shiftKey': False, 'altKey': False, 'ctrlKey': False, 'timeStamp': 23055.005, 'buttons': 0, 'canvasX': 408, 'canvasY': 166}\n",
      "{'type': 'mousemove', 'shiftKey': False, 'altKey': False, 'ctrlKey': False, 'timeStamp': 23087.005, 'buttons': 0, 'canvasX': 371, 'canvasY': 172}\n",
      "{'type': 'mousemove', 'shiftKey': False, 'altKey': False, 'ctrlKey': False, 'timeStamp': 23097.005000000005, 'buttons': 0, 'canvasX': 357, 'canvasY': 174}\n",
      "{'type': 'mousemove', 'shiftKey': False, 'altKey': False, 'ctrlKey': False, 'timeStamp': 23121.005, 'buttons': 0, 'canvasX': 336, 'canvasY': 176}\n",
      "{'type': 'mousemove', 'shiftKey': False, 'altKey': False, 'ctrlKey': False, 'timeStamp': 23133.005, 'buttons': 0, 'canvasX': 329, 'canvasY': 177}\n",
      "{'type': 'mousemove', 'shiftKey': False, 'altKey': False, 'ctrlKey': False, 'timeStamp': 23156.005, 'buttons': 0, 'canvasX': 321, 'canvasY': 177}\n",
      "{'type': 'mousemove', 'shiftKey': False, 'altKey': False, 'ctrlKey': False, 'timeStamp': 23167.005000000005, 'buttons': 0, 'canvasX': 317, 'canvasY': 177}\n",
      "{'type': 'mousemove', 'shiftKey': False, 'altKey': False, 'ctrlKey': False, 'timeStamp': 23191.005, 'buttons': 0, 'canvasX': 305, 'canvasY': 178}\n",
      "{'type': 'mousemove', 'shiftKey': False, 'altKey': False, 'ctrlKey': False, 'timeStamp': 23214.005, 'buttons': 0, 'canvasX': 291, 'canvasY': 179}\n",
      "{'type': 'mousemove', 'shiftKey': False, 'altKey': False, 'ctrlKey': False, 'timeStamp': 23238.005, 'buttons': 0, 'canvasX': 282, 'canvasY': 179}\n",
      "{'type': 'mousemove', 'shiftKey': False, 'altKey': False, 'ctrlKey': False, 'timeStamp': 23248.005, 'buttons': 0, 'canvasX': 279, 'canvasY': 179}\n",
      "{'type': 'mousemove', 'shiftKey': False, 'altKey': False, 'ctrlKey': False, 'timeStamp': 23272.005000000005, 'buttons': 0, 'canvasX': 275, 'canvasY': 179}\n",
      "{'type': 'mousemove', 'shiftKey': False, 'altKey': False, 'ctrlKey': False, 'timeStamp': 23284.005, 'buttons': 0, 'canvasX': 274, 'canvasY': 179}\n",
      "{'type': 'mousemove', 'shiftKey': False, 'altKey': False, 'ctrlKey': False, 'timeStamp': 23307.005, 'buttons': 0, 'canvasX': 273, 'canvasY': 179}\n",
      "{'type': 'mousemove', 'shiftKey': False, 'altKey': False, 'ctrlKey': False, 'timeStamp': 23318.005000000005, 'buttons': 0, 'canvasX': 272, 'canvasY': 179}\n",
      "{'type': 'mousemove', 'shiftKey': False, 'altKey': False, 'ctrlKey': False, 'timeStamp': 23330.005000000005, 'buttons': 0, 'canvasX': 272, 'canvasY': 179}\n",
      "{'type': 'mousemove', 'shiftKey': False, 'altKey': False, 'ctrlKey': False, 'timeStamp': 23401.005, 'buttons': 0, 'canvasX': 283, 'canvasY': 179}\n",
      "{'type': 'mousemove', 'shiftKey': False, 'altKey': False, 'ctrlKey': False, 'timeStamp': 23424.005, 'buttons': 0, 'canvasX': 315, 'canvasY': 179}\n",
      "{'type': 'mousemove', 'shiftKey': False, 'altKey': False, 'ctrlKey': False, 'timeStamp': 23470.005, 'buttons': 0, 'canvasX': 367, 'canvasY': 179}\n",
      "{'type': 'mousemove', 'shiftKey': False, 'altKey': False, 'ctrlKey': False, 'timeStamp': 23517.005, 'buttons': 0, 'canvasX': 399, 'canvasY': 179}\n",
      "{'type': 'mousemove', 'shiftKey': False, 'altKey': False, 'ctrlKey': False, 'timeStamp': 23540.005, 'buttons': 0, 'canvasX': 408, 'canvasY': 179}\n",
      "{'type': 'mousemove', 'shiftKey': False, 'altKey': False, 'ctrlKey': False, 'timeStamp': 23551.005000000005, 'buttons': 0, 'canvasX': 412, 'canvasY': 179}\n",
      "{'type': 'mousemove', 'shiftKey': False, 'altKey': False, 'ctrlKey': False, 'timeStamp': 23575.005, 'buttons': 0, 'canvasX': 420, 'canvasY': 180}\n",
      "{'type': 'mousemove', 'shiftKey': False, 'altKey': False, 'ctrlKey': False, 'timeStamp': 23597.005000000005, 'buttons': 0, 'canvasX': 424, 'canvasY': 181}\n",
      "{'type': 'mousemove', 'shiftKey': False, 'altKey': False, 'ctrlKey': False, 'timeStamp': 23621.005, 'buttons': 0, 'canvasX': 426, 'canvasY': 181}\n",
      "{'type': 'mousemove', 'shiftKey': False, 'altKey': False, 'ctrlKey': False, 'timeStamp': 23633.005, 'buttons': 0, 'canvasX': 427, 'canvasY': 181}\n",
      "{'type': 'mousemove', 'shiftKey': False, 'altKey': False, 'ctrlKey': False, 'timeStamp': 23656.005, 'buttons': 0, 'canvasX': 427, 'canvasY': 181}\n",
      "{'type': 'mousemove', 'shiftKey': False, 'altKey': False, 'ctrlKey': False, 'timeStamp': 23668.005, 'buttons': 0, 'canvasX': 428, 'canvasY': 181}\n",
      "{'type': 'mousemove', 'shiftKey': False, 'altKey': False, 'ctrlKey': False, 'timeStamp': 23714.005, 'buttons': 0, 'canvasX': 428, 'canvasY': 181}\n",
      "{'type': 'mousemove', 'shiftKey': False, 'altKey': False, 'ctrlKey': False, 'timeStamp': 23738.005, 'buttons': 0, 'canvasX': 428, 'canvasY': 182}\n",
      "{'type': 'mousemove', 'shiftKey': False, 'altKey': False, 'ctrlKey': False, 'timeStamp': 23784.005, 'buttons': 0, 'canvasX': 417, 'canvasY': 185}\n",
      "{'type': 'mousemove', 'shiftKey': False, 'altKey': False, 'ctrlKey': False, 'timeStamp': 23807.005, 'buttons': 0, 'canvasX': 413, 'canvasY': 185}\n",
      "{'type': 'mousemove', 'shiftKey': False, 'altKey': False, 'ctrlKey': False, 'timeStamp': 25169.005, 'buttons': 0, 'canvasX': 413, 'canvasY': 185}\n",
      "{'type': 'mousemove', 'shiftKey': False, 'altKey': False, 'ctrlKey': False, 'timeStamp': 25179.005000000005, 'buttons': 0, 'canvasX': 413, 'canvasY': 184}\n",
      "{'type': 'mousemove', 'shiftKey': False, 'altKey': False, 'ctrlKey': False, 'timeStamp': 25191.005, 'buttons': 0, 'canvasX': 409, 'canvasY': 184}\n",
      "{'type': 'mousemove', 'shiftKey': False, 'altKey': False, 'ctrlKey': False, 'timeStamp': 25249.005, 'buttons': 0, 'canvasX': 322, 'canvasY': 193}\n",
      "{'type': 'mousemove', 'shiftKey': False, 'altKey': False, 'ctrlKey': False, 'timeStamp': 25319.005, 'buttons': 0, 'canvasX': 270, 'canvasY': 201}\n",
      "{'type': 'mousemove', 'shiftKey': False, 'altKey': False, 'ctrlKey': False, 'timeStamp': 25330.005000000005, 'buttons': 0, 'canvasX': 269, 'canvasY': 201}\n",
      "{'type': 'mousemove', 'shiftKey': False, 'altKey': False, 'ctrlKey': False, 'timeStamp': 25354.005, 'buttons': 0, 'canvasX': 267, 'canvasY': 201}\n",
      "{'type': 'mousemove', 'shiftKey': False, 'altKey': False, 'ctrlKey': False, 'timeStamp': 25377.005, 'buttons': 0, 'canvasX': 266, 'canvasY': 201}\n",
      "{'type': 'mousemove', 'shiftKey': False, 'altKey': False, 'ctrlKey': False, 'timeStamp': 25389.005, 'buttons': 0, 'canvasX': 266, 'canvasY': 201}\n",
      "{'type': 'mousemove', 'shiftKey': False, 'altKey': False, 'ctrlKey': False, 'timeStamp': 25493.005000000005, 'buttons': 0, 'canvasX': 266, 'canvasY': 201}\n",
      "{'type': 'mousemove', 'shiftKey': False, 'altKey': False, 'ctrlKey': False, 'timeStamp': 26051.005000000005, 'buttons': 0, 'canvasX': 266, 'canvasY': 201}\n",
      "{'type': 'mousemove', 'shiftKey': False, 'altKey': False, 'ctrlKey': False, 'timeStamp': 26086.005000000005, 'buttons': 0, 'canvasX': 266, 'canvasY': 200}\n",
      "{'type': 'mousemove', 'shiftKey': False, 'altKey': False, 'ctrlKey': False, 'timeStamp': 26121.005000000005, 'buttons': 0, 'canvasX': 266, 'canvasY': 199}\n",
      "{'type': 'mousemove', 'shiftKey': False, 'altKey': False, 'ctrlKey': False, 'timeStamp': 26284.005, 'buttons': 0, 'canvasX': 266, 'canvasY': 198}\n",
      "{'type': 'mousemove', 'shiftKey': False, 'altKey': False, 'ctrlKey': False, 'timeStamp': 26319.005, 'buttons': 0, 'canvasX': 266, 'canvasY': 198}\n",
      "{'type': 'mousemove', 'shiftKey': False, 'altKey': False, 'ctrlKey': False, 'timeStamp': 26354.005, 'buttons': 0, 'canvasX': 267, 'canvasY': 197}\n",
      "{'type': 'mousemove', 'shiftKey': False, 'altKey': False, 'ctrlKey': False, 'timeStamp': 26528.005000000005, 'buttons': 0, 'canvasX': 268, 'canvasY': 196}\n",
      "{'type': 'mousemove', 'shiftKey': False, 'altKey': False, 'ctrlKey': False, 'timeStamp': 26551.005000000005, 'buttons': 0, 'canvasX': 269, 'canvasY': 195}\n",
      "{'type': 'mousemove', 'shiftKey': False, 'altKey': False, 'ctrlKey': False, 'timeStamp': 26598.005, 'buttons': 0, 'canvasX': 269, 'canvasY': 193}\n",
      "{'type': 'mousemove', 'shiftKey': False, 'altKey': False, 'ctrlKey': False, 'timeStamp': 26772.005000000005, 'buttons': 0, 'canvasX': 269, 'canvasY': 192}\n",
      "{'type': 'mousemove', 'shiftKey': False, 'altKey': False, 'ctrlKey': False, 'timeStamp': 26795.005000000005, 'buttons': 0, 'canvasX': 269, 'canvasY': 192}\n",
      "{'type': 'mousemove', 'shiftKey': False, 'altKey': False, 'ctrlKey': False, 'timeStamp': 26970.005, 'buttons': 0, 'canvasX': 269, 'canvasY': 191}\n"
     ]
    },
    {
     "name": "stdout",
     "output_type": "stream",
     "text": [
      "{'type': 'mousemove', 'shiftKey': False, 'altKey': False, 'ctrlKey': False, 'timeStamp': 27157.005, 'buttons': 0, 'canvasX': 269, 'canvasY': 191}\n",
      "{'type': 'mousemove', 'shiftKey': False, 'altKey': False, 'ctrlKey': False, 'timeStamp': 27168.005, 'buttons': 0, 'canvasX': 269, 'canvasY': 190}\n",
      "{'type': 'mousemove', 'shiftKey': False, 'altKey': False, 'ctrlKey': False, 'timeStamp': 27178.005, 'buttons': 0, 'canvasX': 269, 'canvasY': 190}\n",
      "{'type': 'mousemove', 'shiftKey': False, 'altKey': False, 'ctrlKey': False, 'timeStamp': 27202.005000000005, 'buttons': 0, 'canvasX': 269, 'canvasY': 188}\n",
      "{'type': 'mousemove', 'shiftKey': False, 'altKey': False, 'ctrlKey': False, 'timeStamp': 27388.005000000005, 'buttons': 0, 'canvasX': 269, 'canvasY': 187}\n",
      "{'type': 'mousemove', 'shiftKey': False, 'altKey': False, 'ctrlKey': False, 'timeStamp': 27411.005000000005, 'buttons': 0, 'canvasX': 269, 'canvasY': 186}\n",
      "{'type': 'mousemove', 'shiftKey': False, 'altKey': False, 'ctrlKey': False, 'timeStamp': 27423.005000000005, 'buttons': 0, 'canvasX': 269, 'canvasY': 185}\n",
      "{'type': 'mousemove', 'shiftKey': False, 'altKey': False, 'ctrlKey': False, 'timeStamp': 27598.005, 'buttons': 0, 'canvasX': 269, 'canvasY': 185}\n",
      "{'type': 'mousemove', 'shiftKey': False, 'altKey': False, 'ctrlKey': False, 'timeStamp': 27995.005, 'buttons': 0, 'canvasX': 270, 'canvasY': 185}\n",
      "{'type': 'mousemove', 'shiftKey': False, 'altKey': False, 'ctrlKey': False, 'timeStamp': 28005.005, 'buttons': 0, 'canvasX': 273, 'canvasY': 185}\n",
      "{'type': 'mousemove', 'shiftKey': False, 'altKey': False, 'ctrlKey': False, 'timeStamp': 28027.005, 'buttons': 0, 'canvasX': 288, 'canvasY': 183}\n",
      "{'type': 'mousemove', 'shiftKey': False, 'altKey': False, 'ctrlKey': False, 'timeStamp': 28063.005000000005, 'buttons': 0, 'canvasX': 360, 'canvasY': 172}\n",
      "{'type': 'mousemove', 'shiftKey': False, 'altKey': False, 'ctrlKey': False, 'timeStamp': 28086.005000000005, 'buttons': 0, 'canvasX': 436, 'canvasY': 163}\n",
      "{'type': 'mousemove', 'shiftKey': False, 'altKey': False, 'ctrlKey': False, 'timeStamp': 28121.005000000005, 'buttons': 0, 'canvasX': 567, 'canvasY': 163}\n"
     ]
    }
   ],
   "source": [
    "c"
   ]
  },
  {
   "cell_type": "code",
   "execution_count": 6,
   "metadata": {
    "collapsed": true
   },
   "outputs": [],
   "source": [
    "c.data = image_4"
   ]
  },
  {
   "cell_type": "code",
   "execution_count": 8,
   "metadata": {
    "collapsed": true
   },
   "outputs": [],
   "source": [
    "c.pixelated=True"
   ]
  },
  {
   "cell_type": "code",
   "execution_count": 11,
   "metadata": {},
   "outputs": [
    {
     "data": {
      "text/plain": [
       "False"
      ]
     },
     "execution_count": 11,
     "metadata": {},
     "output_type": "execute_result"
    }
   ],
   "source": [
    "c.pixelated"
   ]
  },
  {
   "cell_type": "code",
   "execution_count": 10,
   "metadata": {
    "collapsed": true
   },
   "outputs": [],
   "source": [
    "c.width = 0\n",
    "c.height = 0"
   ]
  },
  {
   "cell_type": "code",
   "execution_count": 10,
   "metadata": {},
   "outputs": [
    {
     "data": {
      "text/plain": [
       "False"
      ]
     },
     "execution_count": 10,
     "metadata": {},
     "output_type": "execute_result"
    }
   ],
   "source": [
    "c.pixelated"
   ]
  },
  {
   "cell_type": "code",
   "execution_count": 6,
   "metadata": {},
   "outputs": [],
   "source": [
    "def fn(a,b):\n",
    "    print(b)\n",
    "    \n",
    "c.register_move(fn)"
   ]
  },
  {
   "cell_type": "code",
   "execution_count": 7,
   "metadata": {},
   "outputs": [],
   "source": [
    "c.unregister_all()"
   ]
  },
  {
   "cell_type": "code",
   "execution_count": null,
   "metadata": {
    "collapsed": true
   },
   "outputs": [],
   "source": []
  }
 ],
 "metadata": {
  "kernelspec": {
   "display_name": "Python 3",
   "language": "python",
   "name": "python3"
  },
  "language_info": {
   "codemirror_mode": {
    "name": "ipython",
    "version": 3
   },
   "file_extension": ".py",
   "mimetype": "text/x-python",
   "name": "python",
   "nbconvert_exporter": "python",
   "pygments_lexer": "ipython3",
   "version": "3.6.1"
  },
  "widgets": {
   "application/vnd.jupyter.widget-state+json": {
    "state": {
     "43dd66145b7c465b8c302febdc2ea488": {
      "model_module": "jupyter-canvas",
      "model_module_version": "0.1.0a0",
      "model_name": "CanvasModel",
      "state": {
       "_data_compressed": {},
       "_model_module_version": "0.1.0a0",
       "_view_module_version": "0.1.0a0",
       "layout": "IPY_MODEL_a085b0928bf945949361618cee31f031"
      }
     },
     "5e624da573b64a36a937e9dc4361c844": {
      "model_module": "@jupyter-widgets/base",
      "model_module_version": "1.0.0",
      "model_name": "LayoutModel",
      "state": {
       "height": "",
       "width": ""
      }
     },
     "7de50613c2d94298a381abb8ea4230aa": {
      "model_module": "jupyter-canvas",
      "model_module_version": "0.1.0a0",
      "model_name": "CanvasModel",
      "state": {
       "_data_compressed": {},
       "_model_module_version": "0.1.0a0",
       "_view_module_version": "0.1.0a0",
       "layout": "IPY_MODEL_5e624da573b64a36a937e9dc4361c844"
      }
     },
     "a085b0928bf945949361618cee31f031": {
      "model_module": "@jupyter-widgets/base",
      "model_module_version": "1.0.0",
      "model_name": "LayoutModel",
      "state": {
       "height": "",
       "width": ""
      }
     }
    },
    "version_major": 2,
    "version_minor": 0
   }
  }
 },
 "nbformat": 4,
 "nbformat_minor": 2
}
