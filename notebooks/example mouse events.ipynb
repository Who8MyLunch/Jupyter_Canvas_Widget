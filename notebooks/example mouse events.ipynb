{
 "cells": [
  {
   "cell_type": "code",
   "execution_count": 1,
   "metadata": {},
   "outputs": [],
   "source": [
    "import IPython\n",
    "import ipywidgets\n",
    "import numpy as np\n",
    "\n",
    "import image_attendant as imat\n",
    "import jpy_canvas"
   ]
  },
  {
   "cell_type": "markdown",
   "metadata": {},
   "source": [
    "# Setup"
   ]
  },
  {
   "cell_type": "code",
   "execution_count": 5,
   "metadata": {},
   "outputs": [],
   "source": [
    "image = imat.read('images/cleo.jpg')\n",
    "image = imat.rebin(image, 0.25)  \n",
    "\n",
    "H,W = image.shape[:2]\n",
    "\n",
    "L = 20\n",
    "L2 = L*2 + 1"
   ]
  },
  {
   "cell_type": "markdown",
   "metadata": {},
   "source": [
    "# Widgets"
   ]
  },
  {
   "cell_type": "code",
   "execution_count": 6,
   "metadata": {
    "scrolled": false
   },
   "outputs": [
    {
     "data": {
      "application/vnd.jupyter.widget-view+json": {
       "model_id": "9cbb72e887e6463fbf15e426e6b144c1",
       "version_major": 2,
       "version_minor": 0
      },
      "text/html": [
       "<p>Failed to display Jupyter Widget of type <code>HBox</code>.</p>\n",
       "<p>\n",
       "  If you're reading this message in Jupyter Notebook or JupyterLab, it may mean\n",
       "  that the widgets JavaScript is still loading. If this message persists, it\n",
       "  likely means that the widgets JavaScript library is either not installed or\n",
       "  not enabled. See the <a href=\"https://ipywidgets.readthedocs.io/en/stable/user_install.html\">Jupyter\n",
       "  Widgets Documentation</a> for setup instructions.\n",
       "</p>\n",
       "<p>\n",
       "  If you're reading this message in another notebook frontend (for example, a static\n",
       "  rendering on GitHub or <a href=\"https://nbviewer.jupyter.org/\">NBViewer</a>),\n",
       "  it may mean that your frontend doesn't currently support widgets.\n",
       "</p>\n"
      ],
      "text/plain": [
       "HBox(children=(Canvas(layout=Layout(height='611px', width='611px')), Canvas(layout=Layout(height='50px', width='100px'))))"
      ]
     },
     "metadata": {},
     "output_type": "display_data"
    }
   ],
   "source": [
    "wid_img = jpy_canvas.Canvas(image)\n",
    "wid_sub = jpy_canvas.Canvas()\n",
    "\n",
    "wid_img.width = W\n",
    "wid_img.height = H\n",
    "\n",
    "# wid_sub.width = L2*3\n",
    "# wid_sub.height = L2*3\n",
    "\n",
    "\n",
    "wid_box = ipywidgets.HBox([wid_img, wid_sub])\n",
    "\n",
    "wid_box"
   ]
  },
  {
   "cell_type": "code",
   "execution_count": 7,
   "metadata": {},
   "outputs": [],
   "source": [
    "def work_function(wid, event):\n",
    "    \"\"\"Mouse motion event handler\n",
    "    \"\"\"\n",
    "    i = event['canvasX']    \n",
    "    i0 = i-L\n",
    "    i1 = i+L+1\n",
    "\n",
    "    j = event['canvasY']\n",
    "    j0 = j-L\n",
    "    j1 = j+L+1\n",
    "\n",
    "    if i0 < 0:\n",
    "        i0 = 0\n",
    "        \n",
    "    if j0 < 0:\n",
    "        j0 = 0\n",
    "        \n",
    "    crop = wid.data[j0:j1, i0:i1]\n",
    "#     print(i0,i1,j0,j1)\n",
    "#     print(crop.shape)\n",
    "    with wid_sub.hold_sync():\n",
    "        wid_sub.data = crop\n",
    "        wid_sub.width = crop.shape[1]*5\n",
    "        wid_sub.height = crop.shape[0]*5\n",
    "\n",
    "wid_img.register_move(work_function)"
   ]
  },
  {
   "cell_type": "code",
   "execution_count": null,
   "metadata": {},
   "outputs": [],
   "source": []
  }
 ],
 "metadata": {
  "kernelspec": {
   "display_name": "Python 3",
   "language": "python",
   "name": "python3"
  },
  "language_info": {
   "codemirror_mode": {
    "name": "ipython",
    "version": 3
   },
   "file_extension": ".py",
   "mimetype": "text/x-python",
   "name": "python",
   "nbconvert_exporter": "python",
   "pygments_lexer": "ipython3",
   "version": "3.6.1"
  },
  "widgets": {
   "application/vnd.jupyter.widget-state+json": {
    "state": {
     "43dd66145b7c465b8c302febdc2ea488": {
      "model_module": "jupyter-canvas",
      "model_module_version": "0.1.0a0",
      "model_name": "CanvasModel",
      "state": {
       "_data_compressed": {},
       "_model_module_version": "0.1.0a0",
       "_view_module_version": "0.1.0a0",
       "layout": "IPY_MODEL_a085b0928bf945949361618cee31f031"
      }
     },
     "5e624da573b64a36a937e9dc4361c844": {
      "model_module": "@jupyter-widgets/base",
      "model_module_version": "1.0.0",
      "model_name": "LayoutModel",
      "state": {
       "height": "",
       "width": ""
      }
     },
     "7de50613c2d94298a381abb8ea4230aa": {
      "model_module": "jupyter-canvas",
      "model_module_version": "0.1.0a0",
      "model_name": "CanvasModel",
      "state": {
       "_data_compressed": {},
       "_model_module_version": "0.1.0a0",
       "_view_module_version": "0.1.0a0",
       "layout": "IPY_MODEL_5e624da573b64a36a937e9dc4361c844"
      }
     },
     "a085b0928bf945949361618cee31f031": {
      "model_module": "@jupyter-widgets/base",
      "model_module_version": "1.0.0",
      "model_name": "LayoutModel",
      "state": {
       "height": "",
       "width": ""
      }
     }
    },
    "version_major": 2,
    "version_minor": 0
   }
  }
 },
 "nbformat": 4,
 "nbformat_minor": 2
}
